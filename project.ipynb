{
 "cells": [
  {
   "cell_type": "markdown",
   "source": [
    "1. Setup"
   ],
   "metadata": {
    "collapsed": false,
    "pycharm": {
     "name": "#%% md\n"
    }
   }
  },
  {
   "cell_type": "code",
   "execution_count": 2,
   "outputs": [],
   "source": [
    "import os\n",
    "import numpy as np\n",
    "import pandas as pd\n",
    "import tensorflow as tf\n",
    "import matplotlib.pyplot as plt\n",
    "from tensorflow.keras.models import Sequential, Model\n",
    "from tensorflow.keras.preprocessing.image import ImageDataGenerator\n",
    "from tensorflow.keras.layers import Dense, Dropout, Flatten, Activation, Conv2D, MaxPooling2D, BatchNormalization, Add\n",
    "from tensorflow.keras.optimizers import RMSprop, SGD, Adam"
   ],
   "metadata": {
    "collapsed": false,
    "pycharm": {
     "name": "#%%\n"
    }
   }
  },
  {
   "cell_type": "code",
   "execution_count": 3,
   "outputs": [
    {
     "name": "stdout",
     "output_type": "stream",
     "text": [
      "Num GPUs Available:  1\n"
     ]
    }
   ],
   "source": [
    "# check GPU status\n",
    "print(\"Num GPUs Available: \", len(tf.config.list_physical_devices('GPU')))"
   ],
   "metadata": {
    "collapsed": false,
    "pycharm": {
     "name": "#%%\n"
    }
   }
  },
  {
   "cell_type": "code",
   "execution_count": null,
   "outputs": [],
   "source": [
    "# helpers\n",
    "def count_files(root_path):\n",
    "    print('count files in:' + root_path)\n",
    "    assert os.path.exists(root_path)\n",
    "    total_files = 0\n",
    "    item_list = os.listdir(root_path)\n",
    "    if len(item_list) == 0:\n",
    "        return 0\n",
    "    for item in item_list:\n",
    "        next_path = os.path.join(root_path, item)\n",
    "        if os.path.isfile(next_path):\n",
    "            total_files += 1\n",
    "        else:\n",
    "            total_files += count_files(next_path)\n",
    "\n",
    "    return total_files\n"
   ],
   "metadata": {
    "collapsed": false,
    "pycharm": {
     "name": "#%%\n"
    }
   }
  },
  {
   "cell_type": "markdown",
   "source": [
    "2. Handling inputs"
   ],
   "metadata": {
    "collapsed": false,
    "pycharm": {
     "name": "#%% md\n"
    }
   }
  },
  {
   "cell_type": "code",
   "execution_count": null,
   "outputs": [],
   "source": [
    "# Some important directories\n",
    "DATA_DIR = os.path.join(\".\", \"data\")\n",
    "\n",
    "TEST_DATA_DIR = os.path.join(DATA_DIR, \"test\")\n",
    "TRAIN_DATA_DIR = os.path.join(DATA_DIR, \"train\")\n",
    "\n",
    "BATCH_SIZE = 128\n",
    "VALIDATION_RATE = 0.2\n",
    "IMAGE_SIZE = 48\n",
    "\n",
    "# count train data number\n",
    "NUM_TRAIN_DATA = count_files(TRAIN_DATA_DIR)\n",
    "\n",
    "# load the dataset\n",
    "# Generate batches of tensor image data with real-time data augmentation\n",
    "# rescale to convert the pixels in range [0,255] to range [0,1]. This process is Normalizing.\n",
    "datagen = ImageDataGenerator(\n",
    "    rescale=1. / 255,\n",
    "    rotation_range=20,\n",
    "    width_shift_range=0.2,\n",
    "    height_shift_range=0.2,\n",
    "    horizontal_flip=True,\n",
    "    validation_split=VALIDATION_RATE\n",
    ")\n",
    "\n",
    "# Validation data\n",
    "dategen_valid = ImageDataGenerator(\n",
    "    rescale=1. / 255,\n",
    "    validation_split=VALIDATION_RATE\n",
    ")\n",
    "\n",
    "# rescale to convert the pixels in range [0,255] to range [0,1]. This process is Normalizing.\n",
    "datagen_test = ImageDataGenerator(\n",
    "    rescale=1. / 255,\n",
    ")"
   ],
   "metadata": {
    "collapsed": false,
    "pycharm": {
     "name": "#%%\n"
    }
   }
  }
 ],
 "metadata": {
  "kernelspec": {
   "display_name": "Python 3",
   "language": "python",
   "name": "python3"
  },
  "language_info": {
   "codemirror_mode": {
    "name": "ipython",
    "version": 2
   },
   "file_extension": ".py",
   "mimetype": "text/x-python",
   "name": "python",
   "nbconvert_exporter": "python",
   "pygments_lexer": "ipython2",
   "version": "2.7.6"
  }
 },
 "nbformat": 4,
 "nbformat_minor": 0
}